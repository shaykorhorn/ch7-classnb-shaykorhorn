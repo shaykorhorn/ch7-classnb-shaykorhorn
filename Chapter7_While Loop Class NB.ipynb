{
 "cells": [
  {
   "cell_type": "markdown",
   "metadata": {},
   "source": [
    "* Shay Korhorn\n",
    "* Version 1\n",
    "* CH 7 CLASS NB\n",
    "* Fall 2023"
   ]
  },
  {
   "cell_type": "markdown",
   "metadata": {
    "slideshow": {
     "slide_type": "-"
    }
   },
   "source": [
    "# While Loop\n",
    "* The for loop takes a collection of items and executes a block of code once for each item in the collection. \n",
    "* In contrast, the while loop runs as long as, or while, a certain condition is true."
   ]
  },
  {
   "cell_type": "markdown",
   "metadata": {},
   "source": [
    "## The while Loop in Action\n",
    "You can use a while loop to count up through a series of numbers. For\n",
    "example, the following while loop counts from 1 to 5:\n"
   ]
  },
  {
   "cell_type": "code",
   "execution_count": 1,
   "metadata": {},
   "outputs": [
    {
     "name": "stdout",
     "output_type": "stream",
     "text": [
      "1\n",
      "2\n",
      "3\n",
      "4\n",
      "5\n"
     ]
    }
   ],
   "source": [
    "# for loop to print number 1 to 5\n",
    "for i in range(1,6):\n",
    "    print(i)"
   ]
  },
  {
   "cell_type": "code",
   "execution_count": 2,
   "metadata": {},
   "outputs": [
    {
     "name": "stdout",
     "output_type": "stream",
     "text": [
      "1\n",
      "2\n",
      "3\n",
      "4\n",
      "5\n"
     ]
    }
   ],
   "source": [
    "# initialize\n",
    "j=1\n",
    "while j<=5:\n",
    "    print(j)\n",
    "    # increment or it will generate an infinite loop\n",
    "    j=j+1"
   ]
  },
  {
   "cell_type": "code",
   "execution_count": 3,
   "metadata": {},
   "outputs": [
    {
     "name": "stdout",
     "output_type": "stream",
     "text": [
      "10 11 12 13 14 15 16 17 18 19 20 21 22 23 24 25 26 27 28 29 30 31 32 33 34 35 36 37 38 39 40 41 42 43 44 45 46 47 48 49 50 "
     ]
    }
   ],
   "source": [
    "# print number 10 to 50 using while loop\n",
    "x=10\n",
    "while x<=50:\n",
    "    print(x, end=\" \")\n",
    "    \n",
    "    x+=1  # x = x+1"
   ]
  },
  {
   "cell_type": "code",
   "execution_count": 6,
   "metadata": {},
   "outputs": [
    {
     "name": "stdout",
     "output_type": "stream",
     "text": [
      "10 "
     ]
    },
    {
     "ename": "KeyboardInterrupt",
     "evalue": "",
     "output_type": "error",
     "traceback": [
      "\u001b[0;31m---------------------------------------------------------------------------\u001b[0m",
      "\u001b[0;31mKeyboardInterrupt\u001b[0m                         Traceback (most recent call last)",
      "Cell \u001b[0;32mIn[6], line 3\u001b[0m\n\u001b[1;32m      1\u001b[0m \u001b[38;5;66;03m# print even numbers 10 to 50 using while loop\u001b[39;00m\n\u001b[1;32m      2\u001b[0m x\u001b[38;5;241m=\u001b[39m\u001b[38;5;241m10\u001b[39m\n\u001b[0;32m----> 3\u001b[0m \u001b[38;5;28;01mwhile\u001b[39;00m x\u001b[38;5;241m<\u001b[39m\u001b[38;5;241m=\u001b[39m\u001b[38;5;241m50\u001b[39m:\n\u001b[1;32m      4\u001b[0m     \u001b[38;5;28;01mif\u001b[39;00m x\u001b[38;5;241m%\u001b[39m\u001b[38;5;241m2\u001b[39m\u001b[38;5;241m==\u001b[39m\u001b[38;5;241m0\u001b[39m:\n\u001b[1;32m      5\u001b[0m         \u001b[38;5;28mprint\u001b[39m(x, end\u001b[38;5;241m=\u001b[39m \u001b[38;5;124m\"\u001b[39m\u001b[38;5;124m \u001b[39m\u001b[38;5;124m\"\u001b[39m)\n",
      "\u001b[0;31mKeyboardInterrupt\u001b[0m: "
     ]
    }
   ],
   "source": [
    "# print even numbers 10 to 50 using while loop\n",
    "x=10\n",
    "while x<=50:\n",
    "    if x%2==0:\n",
    "        print(x, end= \" \")\n",
    "        x+=1  # x = x+1"
   ]
  },
  {
   "cell_type": "markdown",
   "metadata": {},
   "source": [
    "# Print all the odd numbers between 15 to 30 using while loop and for loop"
   ]
  },
  {
   "cell_type": "code",
   "execution_count": 8,
   "metadata": {},
   "outputs": [
    {
     "name": "stdout",
     "output_type": "stream",
     "text": [
      "15 17 19 21 23 25 27 29 "
     ]
    }
   ],
   "source": [
    "x = 15\n",
    "while x <= 30:\n",
    "    if x%2==1:\n",
    "        print(x, end= \" \")\n",
    "    x+=1"
   ]
  },
  {
   "cell_type": "code",
   "execution_count": 10,
   "metadata": {},
   "outputs": [
    {
     "name": "stdout",
     "output_type": "stream",
     "text": [
      "15 17 19 21 23 25 27 29 "
     ]
    }
   ],
   "source": [
    "for x in range (15,30):\n",
    "    if x%2==1:\n",
    "        print(x, end= \" \")\n",
    "        "
   ]
  },
  {
   "cell_type": "code",
   "execution_count": 12,
   "metadata": {},
   "outputs": [
    {
     "name": "stdout",
     "output_type": "stream",
     "text": [
      "Hello Hello Hello Hello Hello Hello Hello Hello Hello Hello "
     ]
    }
   ],
   "source": [
    "# print \"Hello\" 10 times using for loop and while loop\n",
    "for i in range(10):\n",
    "    print(\"Hello\", end= \" \")"
   ]
  },
  {
   "cell_type": "markdown",
   "metadata": {},
   "source": [
    "### Write a code to print the numbers between 10 to 30 which are divisble by 5\n",
    "* while loop\n",
    "* for loop"
   ]
  },
  {
   "cell_type": "code",
   "execution_count": 5,
   "metadata": {},
   "outputs": [
    {
     "name": "stdout",
     "output_type": "stream",
     "text": [
      "10 15 20 25 30 "
     ]
    }
   ],
   "source": [
    "# for loop\n",
    "for i in range (10,31):\n",
    "    if i%5==0:\n",
    "        print(i, end= \" \")"
   ]
  },
  {
   "cell_type": "code",
   "execution_count": 4,
   "metadata": {},
   "outputs": [
    {
     "name": "stdout",
     "output_type": "stream",
     "text": [
      "10 15 20 25 30 "
     ]
    }
   ],
   "source": [
    "# while loop\n",
    "i = 10\n",
    "while i <31:\n",
    "    if i%5==0:\n",
    "        print (i, end= \" \")\n",
    "    i+=1"
   ]
  },
  {
   "cell_type": "markdown",
   "metadata": {},
   "source": [
    "## Letting the User Choose When to Quit"
   ]
  },
  {
   "cell_type": "code",
   "execution_count": 3,
   "metadata": {},
   "outputs": [
    {
     "name": "stdout",
     "output_type": "stream",
     "text": [
      "\n",
      "Tell me anything and I will repeat it back to you. Enter 'quit' to end the loop.enter\n",
      "The user input is:  enter\n",
      "\n",
      "Tell me anything and I will repeat it back to you. Enter 'quit' to end the loop.quit\n",
      "The user input is:  quit\n"
     ]
    }
   ],
   "source": [
    "prompt=\"\\nTell me anything and I will repeat it back to you. Enter \\'quit\\' to end the loop.\"\n",
    "\n",
    "message=\" \" # initialize\n",
    "while message != 'quit':\n",
    "    message=input(prompt)\n",
    "    print(\"The user input is: \", message)"
   ]
  },
  {
   "cell_type": "markdown",
   "metadata": {},
   "source": [
    "## A Flag"
   ]
  },
  {
   "cell_type": "markdown",
   "metadata": {
    "slideshow": {
     "slide_type": "subslide"
    }
   },
   "source": [
    "### For a program that should run only as long as many conditions are true, you can define one variable that determines whether or not the entire program is active. This variable, called a `flag`, acts as a signal to the program."
   ]
  },
  {
   "cell_type": "code",
   "execution_count": 7,
   "metadata": {},
   "outputs": [
    {
     "name": "stdout",
     "output_type": "stream",
     "text": [
      "\n",
      "Tell me anything and I will repeat it back to you. Enter 'quit' to end the loop.yes\n",
      "yes\n",
      "\n",
      "Tell me anything and I will repeat it back to you. Enter 'quit' to end the loop.quit\n"
     ]
    }
   ],
   "source": [
    "prompt=\"\\nTell me anything and I will repeat it back to you. Enter \\'quit\\' to end the loop.\"\n",
    "# flag\n",
    "message= \" \"\n",
    "active=True\n",
    "while active:\n",
    "    message=input(prompt)\n",
    "    if message=='quit':\n",
    "        active=False # flag turned off\n",
    "    else:\n",
    "        print(message)"
   ]
  },
  {
   "cell_type": "code",
   "execution_count": null,
   "metadata": {},
   "outputs": [],
   "source": []
  },
  {
   "cell_type": "markdown",
   "metadata": {},
   "source": [
    "## Using break to Exit a Loop\n",
    "To exit a while loop immediately without running any remaining code in the\n",
    "loop, regardless of the results of any conditional test, use the break statement."
   ]
  },
  {
   "cell_type": "code",
   "execution_count": 8,
   "metadata": {},
   "outputs": [
    {
     "name": "stdout",
     "output_type": "stream",
     "text": [
      "\n",
      "Tell me some of your friends name and I will repeat it back to you. Enter 'quit' to end the loop.yes maam\n",
      "yes maam\n",
      "\n",
      "Tell me some of your friends name and I will repeat it back to you. Enter 'quit' to end the loop.quit\n"
     ]
    }
   ],
   "source": [
    "prompt=\"\\nTell me some of your friends name and I will repeat it back to you. Enter \\'quit\\' to end the loop.\"\n",
    "friends= \" \"\n",
    "active= True\n",
    "while active:\n",
    "    friends=input(prompt)\n",
    "    if friends=='quit':\n",
    "        break\n",
    "    else:\n",
    "        print(friends)"
   ]
  },
  {
   "cell_type": "code",
   "execution_count": null,
   "metadata": {},
   "outputs": [],
   "source": []
  },
  {
   "cell_type": "markdown",
   "metadata": {},
   "source": [
    "### Guess the number"
   ]
  },
  {
   "cell_type": "code",
   "execution_count": 9,
   "metadata": {},
   "outputs": [
    {
     "name": "stdout",
     "output_type": "stream",
     "text": [
      "\n",
      " Guess a number between 1 to 10: 5\n",
      "Correct guess\n"
     ]
    }
   ],
   "source": [
    "prompt=\"\\n Guess a number between 1 to 10: \"\n",
    "number=0\n",
    "active= True\n",
    "while active:\n",
    "    number=int(input(prompt))\n",
    "    if number==5:\n",
    "        print(\"Correct guess\")\n",
    "        break\n",
    "    else:\n",
    "        print(number)\n",
    "        print(\"Guess again\")"
   ]
  },
  {
   "cell_type": "code",
   "execution_count": null,
   "metadata": {},
   "outputs": [],
   "source": []
  },
  {
   "cell_type": "markdown",
   "metadata": {},
   "source": [
    "### Guess the number with proper direction"
   ]
  },
  {
   "cell_type": "code",
   "execution_count": 10,
   "metadata": {},
   "outputs": [
    {
     "name": "stdout",
     "output_type": "stream",
     "text": [
      "\n",
      " guess a number between 1 to 10: 5\n",
      "You have guessed correctly!\n"
     ]
    }
   ],
   "source": [
    "prompt=\"\\n guess a number between 1 to 10: \"\n",
    "active = True\n",
    "number = 0\n",
    "while active:\n",
    "    number = int(input(prompt))\n",
    "    if number==5:\n",
    "        print(\"You have guessed correctly!\")\n",
    "        break\n",
    "    elif number<5:\n",
    "        print(\"Guess the number bigger than current guess\")\n",
    "    elif number>5 and number<=10:\n",
    "        print(\"Guess the number less than current guess\")\n",
    "    else:\n",
    "        print(\"Not a correct number, guess again\")"
   ]
  },
  {
   "cell_type": "code",
   "execution_count": null,
   "metadata": {},
   "outputs": [],
   "source": []
  },
  {
   "cell_type": "markdown",
   "metadata": {},
   "source": [
    "### Break with for loop"
   ]
  },
  {
   "cell_type": "code",
   "execution_count": 11,
   "metadata": {},
   "outputs": [
    {
     "name": "stdout",
     "output_type": "stream",
     "text": [
      "10 11 12 13 14 "
     ]
    }
   ],
   "source": [
    "# print the numbers between 10 to 30 \n",
    "# break the loop at the number 15\n",
    "for i in range(10,30):\n",
    "    if i==15:\n",
    "        break\n",
    "    print(i, end= \" \")"
   ]
  },
  {
   "cell_type": "code",
   "execution_count": null,
   "metadata": {},
   "outputs": [],
   "source": []
  },
  {
   "cell_type": "markdown",
   "metadata": {},
   "source": [
    "### Using continue in a Loop\n",
    "- Rather than breaking out of a loop entirely without executing the rest of its code, \n",
    "- you can use the continue statement to return to the beginning of the loop based on the result of a conditional test. \n",
    "- For example, consider a loop that counts from 1 to 10 but prints only the odd numbers in that range:"
   ]
  },
  {
   "cell_type": "code",
   "execution_count": 12,
   "metadata": {},
   "outputs": [
    {
     "name": "stdout",
     "output_type": "stream",
     "text": [
      "10 11 12 13 14 16 17 18 19 20 21 22 23 24 25 26 27 28 29 "
     ]
    }
   ],
   "source": [
    "for i in range(10, 30):\n",
    "    if i==15:\n",
    "        continue\n",
    "    print(i, end= \" \")"
   ]
  },
  {
   "cell_type": "code",
   "execution_count": 13,
   "metadata": {},
   "outputs": [
    {
     "name": "stdout",
     "output_type": "stream",
     "text": [
      "1 3 5 7 9 "
     ]
    }
   ],
   "source": [
    "#consider a loop that counts from 1 to 10 but prints only the odd numbers in that range\n",
    "for i in range (1,11):\n",
    "    if i%2==0:\n",
    "        continue\n",
    "    print(i, end= \" \")"
   ]
  },
  {
   "cell_type": "markdown",
   "metadata": {},
   "source": [
    "### consider a loop (while/for) that counts from 10 to 20 but prints only the even numbers in that range, use continue statement:"
   ]
  },
  {
   "cell_type": "code",
   "execution_count": null,
   "metadata": {},
   "outputs": [],
   "source": [
    "# inside a while loop a continue will not work. It will generate an infinite loop."
   ]
  },
  {
   "cell_type": "code",
   "execution_count": null,
   "metadata": {},
   "outputs": [],
   "source": []
  },
  {
   "cell_type": "markdown",
   "metadata": {},
   "source": [
    "### Avoiding Infinite Loops"
   ]
  },
  {
   "cell_type": "code",
   "execution_count": null,
   "metadata": {},
   "outputs": [],
   "source": []
  },
  {
   "cell_type": "code",
   "execution_count": null,
   "metadata": {},
   "outputs": [],
   "source": []
  },
  {
   "cell_type": "markdown",
   "metadata": {},
   "source": [
    "### Movie Tickets: A movie theater charges different ticket prices depending on a person’s age. \n",
    "- If a person is under the age of 3, the ticket is free; if they are between 3 and 12, the ticket is 10 dollar\n",
    "- if they are over age 12, the ticket is 15 dollar. \n",
    "Write a while loop in which you ask users their age, and then tell them the cost of their movie ticket."
   ]
  },
  {
   "cell_type": "code",
   "execution_count": 14,
   "metadata": {},
   "outputs": [
    {
     "name": "stdout",
     "output_type": "stream",
     "text": [
      "\n",
      "Enter the age. input -1 to quit: 5\n",
      "Pay 10 $ for the ticket\n",
      "\n",
      "Enter the age. input -1 to quit: -1\n"
     ]
    }
   ],
   "source": [
    "prompt= \"\\nEnter the age. input -1 to quit: \"\n",
    "active= True\n",
    "age=0\n",
    "while active:\n",
    "    age=int(input(prompt))\n",
    "    if age==-1:\n",
    "        break\n",
    "    elif age<3:\n",
    "        print(\"The ticket is free\")\n",
    "    elif age<12:\n",
    "        print(\"Pay 10 $ for the ticket\")\n",
    "    else:\n",
    "        print(\"Pay 15$ for the ticket\")"
   ]
  },
  {
   "cell_type": "code",
   "execution_count": null,
   "metadata": {},
   "outputs": [],
   "source": []
  },
  {
   "cell_type": "markdown",
   "metadata": {},
   "source": [
    "## Using a while Loop with Lists and Dictionaries"
   ]
  },
  {
   "cell_type": "markdown",
   "metadata": {},
   "source": [
    "### Moving Items from One List to Another"
   ]
  },
  {
   "cell_type": "code",
   "execution_count": 6,
   "metadata": {},
   "outputs": [
    {
     "name": "stdout",
     "output_type": "stream",
     "text": [
      "Ashley\n",
      "John\n",
      "Sam\n",
      "Harry\n",
      "Final list: ['Ashley', 'John', 'Sam', 'Harry']\n",
      "Ashley is my peer\n",
      "John is my peer\n",
      "Sam is my peer\n",
      "Harry is my peer\n"
     ]
    }
   ],
   "source": [
    "# Name of the friends move from friends list to peers list\n",
    "# unpack the list\n",
    "\n",
    "friends=['Harry', 'Sam', 'John', 'Ashley']\n",
    "peers=[]\n",
    "hold=\" \"\n",
    "while friends:\n",
    "    hold = friends.pop()\n",
    "    print(hold)\n",
    "    peers.append(hold)\n",
    "print(f\"Final list: {peers}\")\n",
    "\n",
    "# unpack the list\n",
    "for name in peers:\n",
    "    print(f\"{name} is my peer\")"
   ]
  },
  {
   "cell_type": "code",
   "execution_count": null,
   "metadata": {},
   "outputs": [],
   "source": []
  },
  {
   "cell_type": "markdown",
   "metadata": {},
   "source": [
    "### Removing All Instances of Specific Values from a List"
   ]
  },
  {
   "cell_type": "code",
   "execution_count": 11,
   "metadata": {},
   "outputs": [
    {
     "name": "stdout",
     "output_type": "stream",
     "text": [
      "['dog', 'cat', 'dog', 'goldfish', 'cat', 'rabbit', 'cat']\n",
      "New list: ['dog', 'dog', 'goldfish', 'rabbit']\n",
      "New list: ['dog', 'goldfish', 'rabbit']\n",
      "New list: ['goldfish', 'rabbit']\n"
     ]
    }
   ],
   "source": [
    "pets=['dog', 'cat', 'dog', 'goldfish', 'cat', 'rabbit', 'cat']\n",
    "print(pets)\n",
    "# remove cat from the list\n",
    "while 'cat' in pets:\n",
    "    pets.remove('cat')\n",
    "print(f\"New list: {pets}\")\n",
    "\n",
    "while 'dog' in pets:\n",
    "    pets.remove('dog')\n",
    "    print(f\"New list: {pets}\")"
   ]
  },
  {
   "cell_type": "code",
   "execution_count": null,
   "metadata": {},
   "outputs": [],
   "source": []
  },
  {
   "cell_type": "markdown",
   "metadata": {},
   "source": [
    "### Filling a Dictionary with User Input"
   ]
  },
  {
   "cell_type": "markdown",
   "metadata": {},
   "source": [
    "#### asking the user to input their name as dictionary keys and their favorite food as dictionary values\n"
   ]
  },
  {
   "cell_type": "code",
   "execution_count": 15,
   "metadata": {},
   "outputs": [
    {
     "name": "stdout",
     "output_type": "stream",
     "text": [
      "What is your name?shay\n",
      "What is your favorite food?steak\n",
      "Would you like to enter another entry? (yes/no)yes\n",
      "What is your name?sarah\n",
      "What is your favorite food?pickles\n",
      "Would you like to enter another entry? (yes/no)no\n",
      "{'shay': 'steak', 'sarah': 'pickles'}\n",
      "sarah love to eat pickles\n",
      "sarah love to eat pickles\n"
     ]
    }
   ],
   "source": [
    "response={}\n",
    "# poll is a flag\n",
    "poll=True\n",
    "while poll:\n",
    "    name= input(\"What is your name?\")\n",
    "    food= input(\"What is your favorite food?\")\n",
    "    # update method to add items to a dictionary\n",
    "    response.update({name:food})\n",
    "\n",
    "    repeat= input(\"Would you like to enter another entry? (yes/no)\")\n",
    "    if repeat=='no':\n",
    "        poll=False\n",
    "        # BREAK\n",
    "print(response)\n",
    "# unpack the dictionary:\n",
    "for k,v in response.items():\n",
    "    print(f'{name} love to eat {food}')"
   ]
  },
  {
   "cell_type": "code",
   "execution_count": null,
   "metadata": {
    "collapsed": true
   },
   "outputs": [],
   "source": []
  },
  {
   "cell_type": "code",
   "execution_count": null,
   "metadata": {},
   "outputs": [],
   "source": []
  },
  {
   "cell_type": "markdown",
   "metadata": {},
   "source": [
    "## Deli: Make a list called sandwich_orders and fill it with the names of various sandwiches. \n",
    "- Then make an empty list called finished_sandwiches. \n",
    "- Loop through the list of sandwich orders and print a message for each order, such as I made your tuna sandwich. \n",
    "- As each sandwich is made, move it to the list of finished sandwiches. \n",
    "- After all the sandwiches have been made, print a message listing each sandwich that was made."
   ]
  },
  {
   "cell_type": "code",
   "execution_count": 8,
   "metadata": {},
   "outputs": [
    {
     "name": "stdout",
     "output_type": "stream",
     "text": [
      "I'm working on your Italian sandwich.\n",
      "\n",
      "\n",
      "I made a Turkey n Bacon sandwich.\n",
      "I made a Ham n Cheese sandwich.\n",
      "I made a Veggie sandwich.\n",
      "I made a Italian sandwich.\n"
     ]
    }
   ],
   "source": [
    "sandwich_orders=['Italian', 'Veggie', 'Ham n Cheese', 'Turkey n Bacon']\n",
    "finished_sandwiches=[]\n",
    "hold=\" \"\n",
    "while sandwich_orders:\n",
    "    hold = sandwich_orders.pop()\n",
    "    finished_sandwiches.append(hold)\n",
    "print(\"I'm working on your \" + hold + \" sandwich.\")\n",
    "\n",
    "print(\"\\n\")\n",
    "for sandwich in finished_sandwiches:\n",
    "    print(\"I made a \" + sandwich + \" sandwich.\")"
   ]
  },
  {
   "cell_type": "markdown",
   "metadata": {},
   "source": [
    "## Shopping\n",
    "#### Create a grocery dictionary with 5 items and the quantity\n",
    "* key is item name\n",
    "* value is quantity"
   ]
  },
  {
   "cell_type": "code",
   "execution_count": 18,
   "metadata": {},
   "outputs": [
    {
     "name": "stdout",
     "output_type": "stream",
     "text": [
      "What do you like to eat?steak\n",
      "Anything else you like to eat? (yes/no)no\n",
      "{}\n"
     ]
    }
   ],
   "source": [
    "grocery={}\n",
    "poll= True\n",
    "while poll:\n",
    "    food = input(\"What do you like to eat?\")\n",
    "    repeat = input(\"Anything else you like to eat? (yes/no)\")\n",
    "    if repeat=='no':\n",
    "        poll= False\n",
    "        \n",
    "print(grocery)\n",
    "for k,v in grocery.items():\n",
    "    print(f'{food} was added to the list.')\n"
   ]
  },
  {
   "cell_type": "code",
   "execution_count": null,
   "metadata": {},
   "outputs": [],
   "source": []
  },
  {
   "cell_type": "markdown",
   "metadata": {},
   "source": [
    "## Write a program to print n natural number in descending order using a while loop.\n"
   ]
  },
  {
   "cell_type": "code",
   "execution_count": 23,
   "metadata": {},
   "outputs": [
    {
     "name": "stdout",
     "output_type": "stream",
     "text": [
      "Enter the value of n: 10\n",
      "10\n",
      "9\n",
      "8\n",
      "7\n",
      "6\n",
      "5\n",
      "4\n",
      "3\n",
      "2\n",
      "1\n"
     ]
    }
   ],
   "source": [
    "n=int(input(\"Enter the value of n: \"))\n",
    "# loop wil end at 0\n",
    "while n!=0:\n",
    "    print(n)\n",
    "    n=n-1"
   ]
  },
  {
   "cell_type": "code",
   "execution_count": null,
   "metadata": {},
   "outputs": [],
   "source": []
  },
  {
   "cell_type": "markdown",
   "metadata": {},
   "source": [
    "## Factorial of a number"
   ]
  },
  {
   "cell_type": "code",
   "execution_count": 15,
   "metadata": {},
   "outputs": [
    {
     "name": "stdout",
     "output_type": "stream",
     "text": [
      "Enter a number 5\n",
      "120\n"
     ]
    }
   ],
   "source": [
    "# home\n",
    "n = int(input(\"Enter a number \"))\n",
    "fact = 1\n",
    "while(n):\n",
    "    fact = fact * n\n",
    "    n = n-1\n",
    "print(fact)"
   ]
  },
  {
   "cell_type": "code",
   "execution_count": null,
   "metadata": {},
   "outputs": [],
   "source": []
  },
  {
   "cell_type": "markdown",
   "metadata": {},
   "source": [
    "## Take 10 integers from keyboard using loop and print their sum and average value on the screen"
   ]
  },
  {
   "cell_type": "code",
   "execution_count": 16,
   "metadata": {},
   "outputs": [
    {
     "name": "stdout",
     "output_type": "stream",
     "text": [
      "Enter number: 5\n",
      "Enter number: 5\n",
      "Enter number: 5\n",
      "Enter number: 5\n",
      "Enter number: 5\n",
      "Enter number: 5\n",
      "Enter number: 5\n",
      "Enter number: 5\n",
      "Enter number: 10\n",
      "Enter number: 10\n",
      "Enter number: 10\n",
      "average is 7.0\n"
     ]
    }
   ],
   "source": [
    "sum = 0\n",
    "i = 0\n",
    "while i<=10:\n",
    "  num = int(input(\"Enter number: \"))\n",
    "  sum = sum + num\n",
    "  i = i+1\n",
    "print (\"average is\",sum/10)"
   ]
  },
  {
   "cell_type": "code",
   "execution_count": null,
   "metadata": {},
   "outputs": [],
   "source": []
  },
  {
   "attachments": {
    "image.png": {
     "image/png": "[encoded data removed]"
    }
   },
   "cell_type": "markdown",
   "metadata": {},
   "source": [
    "## Print the following patterns using loop :\n",
    "![image.png](attachment:image.png)"
   ]
  },
  {
   "cell_type": "code",
   "execution_count": 17,
   "metadata": {},
   "outputs": [
    {
     "name": "stdout",
     "output_type": "stream",
     "text": [
      "*\n",
      "**\n",
      "***\n",
      "****\n",
      "*****\n",
      "******\n",
      "*******\n",
      "********\n",
      "*********\n",
      "**********\n"
     ]
    }
   ],
   "source": [
    "# print starts\n",
    "i=1\n",
    "while i<=10:\n",
    "    print(i*\"*\")\n",
    "    i+=1"
   ]
  },
  {
   "cell_type": "code",
   "execution_count": null,
   "metadata": {},
   "outputs": [],
   "source": []
  },
  {
   "cell_type": "markdown",
   "metadata": {},
   "source": [
    "## Write a program to display the first 7 multiples of 7.\n"
   ]
  },
  {
   "cell_type": "code",
   "execution_count": 8,
   "metadata": {},
   "outputs": [
    {
     "name": "stdout",
     "output_type": "stream",
     "text": [
      "0 count 1\n",
      "7 count 2\n",
      "14 count 3\n",
      "21 count 4\n",
      "28 count 5\n",
      "35 count 6\n",
      "42 count 7\n",
      "49 count 8\n",
      "56 count 9\n",
      "63 count 10\n",
      "70 count 11\n",
      "77 count 12\n",
      "84 count 13\n",
      "91 count 14\n",
      "98 count 15\n"
     ]
    }
   ],
   "source": [
    "count=0\n",
    "for i in range (100):\n",
    "    if i%7==0:\n",
    "        print(i, end= \" \")\n",
    "        count=count+1\n",
    "        print(\"count\",count)\n",
    "        if count==8"
   ]
  },
  {
   "cell_type": "code",
   "execution_count": null,
   "metadata": {},
   "outputs": [],
   "source": []
  },
  {
   "cell_type": "markdown",
   "metadata": {},
   "source": [
    "## Write a program that appends the square of each number to a new list."
   ]
  },
  {
   "cell_type": "code",
   "execution_count": 18,
   "metadata": {},
   "outputs": [
    {
     "name": "stdout",
     "output_type": "stream",
     "text": [
      "[1, 4, 9, 16, 25]\n"
     ]
    }
   ],
   "source": [
    "x=[1,2,3,4,5]\n",
    "output=[]\n",
    "\n",
    "for i in x:\n",
    "    output.append(i**2)\n",
    "print(output)"
   ]
  },
  {
   "cell_type": "code",
   "execution_count": null,
   "metadata": {},
   "outputs": [],
   "source": []
  },
  {
   "cell_type": "markdown",
   "metadata": {},
   "source": [
    "## Separate positive and negative number from a list.\n",
    "x = [23,12,-4,23,-9,21,3,-45,-8]"
   ]
  },
  {
   "cell_type": "code",
   "execution_count": 9,
   "metadata": {},
   "outputs": [
    {
     "name": "stdout",
     "output_type": "stream",
     "text": [
      "pos list [23, 12, 23, 21, 3]\n",
      "neg list [-4, -9, -45, -8]\n"
     ]
    }
   ],
   "source": [
    "x = [23,12,-4,23,-9,21,3,-45,-8]\n",
    "pos = []\n",
    "neg = []\n",
    "for i in x:\n",
    "    if i>=0:\n",
    "        pos.append(i)\n",
    "    else:\n",
    "        neg.append(i)\n",
    "print(\"pos list\", pos)\n",
    "print(\"neg list\", neg)"
   ]
  },
  {
   "cell_type": "code",
   "execution_count": null,
   "metadata": {},
   "outputs": [],
   "source": []
  }
 ],
 "metadata": {
  "celltoolbar": "Slideshow",
  "kernelspec": {
   "display_name": "Python 3 (ipykernel)",
   "language": "python",
   "name": "python3"
  },
  "language_info": {
   "codemirror_mode": {
    "name": "ipython",
    "version": 3
   },
   "file_extension": ".py",
   "mimetype": "text/x-python",
   "name": "python",
   "nbconvert_exporter": "python",
   "pygments_lexer": "ipython3",
   "version": "3.11.4"
  }
 },
 "nbformat": 4,
 "nbformat_minor": 2
}
